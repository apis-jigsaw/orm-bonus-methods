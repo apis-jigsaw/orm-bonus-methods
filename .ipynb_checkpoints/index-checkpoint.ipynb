{
 "cells": [
  {
   "cell_type": "markdown",
   "metadata": {},
   "source": [
    "# ORM Bonus Functions"
   ]
  },
  {
   "cell_type": "markdown",
   "metadata": {},
   "source": [
    "### Introduction"
   ]
  },
  {
   "cell_type": "markdown",
   "metadata": {},
   "source": [
    "In this lesson, we'll build a couple of functions that we can add to our orm library.  These problems are supposed to serve as a sort of brain teaser."
   ]
  },
  {
   "cell_type": "markdown",
   "metadata": {},
   "source": [
    "### Adding to our orm"
   ]
  },
  {
   "cell_type": "markdown",
   "metadata": {},
   "source": [
    "We can begin by adding content to our orm library.  \n",
    "\n",
    "> You can look at the `test_orm.py` file to see what we're adding."
   ]
  },
  {
   "cell_type": "markdown",
   "metadata": {},
   "source": [
    "#### filter_by\n",
    "```python\n",
    "filter_by(test_cursor, Venue, {'name': 'Los Tacos Al Pastor', 'price': 1})\n",
    "```\n",
    "\n",
    "* The `filter_by` function should take a cursor, class, and attributes as dictionary.  It should return instances of all the records where all attributes match.\n",
    "\n",
    "* If no attributes are provided it should return the first ten records of the specified class."
   ]
  },
  {
   "cell_type": "markdown",
   "metadata": {},
   "source": [
    "#### paginate_by"
   ]
  },
  {
   "cell_type": "markdown",
   "metadata": {},
   "source": [
    "* The paginate_by function allows us to *page* through our results.\n",
    "\n",
    "```python\n",
    "paginate_by(test_cursor, Venue, page_number = 2, per_page = 10)\n",
    "```\n",
    "\n",
    "For example, in the example above, we would get the second page of results, where each page has ten records.  In other words, we would get records 10 through 20 in the database.\n",
    "\n",
    "> Reference this [link for a hint](https://dataschool.com/learn-sql/limit/)."
   ]
  },
  {
   "cell_type": "markdown",
   "metadata": {},
   "source": [
    "### Object Relations"
   ]
  },
  {
   "cell_type": "markdown",
   "metadata": {},
   "source": [
    "Now for this next section, we'll want to see if we can generate the sql for some of our queries.  \n",
    "\n",
    "Get the tests to pass in the `test_query_builder.py` file.\n",
    "\n",
    "* has_one_builder\n",
    "\n",
    "For example, city has one state, the sql is:\n",
    "\n",
    "```python\n",
    "class City\n",
    "    def state(self, cursor):\n",
    "            query_str = \"SELECT states.* FROM states WHERE id = %s\"\n",
    "            cursor.execute(query_str, (self.state_id,))\n",
    "            record = cursor.fetchone()\n",
    "            return db.build_from_record(models.State, record)\n",
    "```\n",
    "\n",
    "And for zipcode has one city the code is:\n",
    "\n",
    "```python\n",
    "class Zipcode\n",
    "    def city(self, cursor):\n",
    "            query_str = \"SELECT cities.* FROM cities WHERE id = %s\"\n",
    "            cursor.execute(query_str, (self.city_id,))\n",
    "            record = cursor.fetchone()\n",
    "            return db.build_from_record(models.City, record)\n",
    "```\n",
    "\n",
    "And we can have a has_one_builder function that works takes the a class like so.\n",
    "\n",
    "`has_one_builder(State)`\n",
    "\n",
    "and returns\n",
    "\n",
    "`\"SELECT states.* FROM states WHERE id = %s\"`\n",
    "\n",
    "So now go to the `test_query_builder` file, and pass the has_one_builder_test.\n",
    "\n",
    "* has_many_builder\n",
    "\n",
    "Now try to write a function called has_many_builder that can write the has many function given two classes.\n",
    "\n",
    "```python\n",
    "has_many_builder(Zipcode, Location)\n",
    "# \"SELECT locations.* FROM locations WHERE zipcode_id = %s\"\n",
    "```"
   ]
  },
  {
   "cell_type": "markdown",
   "metadata": {},
   "source": [
    "### Resources\n",
    "\n",
    "[Pytest](https://xvrdm.github.io/2017/07/03/testing-flask-sqlalchemy-database-with-pytest/)"
   ]
  },
  {
   "cell_type": "markdown",
   "metadata": {},
   "source": [
    "[Pytest fixtures](https://docs.pytest.org/en/stable/fixture.html)"
   ]
  }
 ],
 "metadata": {
  "kernelspec": {
   "display_name": "Python 3 (ipykernel)",
   "language": "python",
   "name": "python3"
  },
  "language_info": {
   "codemirror_mode": {
    "name": "ipython",
    "version": 3
   },
   "file_extension": ".py",
   "mimetype": "text/x-python",
   "name": "python",
   "nbconvert_exporter": "python",
   "pygments_lexer": "ipython3",
   "version": "3.9.12"
  }
 },
 "nbformat": 4,
 "nbformat_minor": 4
}
